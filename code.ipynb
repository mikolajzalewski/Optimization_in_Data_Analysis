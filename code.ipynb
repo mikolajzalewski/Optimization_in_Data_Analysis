{
 "cells": [
  {
   "cell_type": "code",
   "execution_count": 2,
   "metadata": {},
   "outputs": [],
   "source": [
    "import numpy as np\n",
    "\n",
    "def lasso_regression(X, y, alpha, max_iter=1000, tol=1e-4):\n",
    "    \"\"\"\n",
    "    Implementation of Lasso algorithm using coordinate descent.\n",
    "    \n",
    "    Parameters:\n",
    "    X: numpy array of shape (n, p), where n is the number of samples and p is the number of features.\n",
    "    y: numpy array of shape (n,), target vector.\n",
    "    alpha: float, regularization parameter for Lasso.\n",
    "    max_iter: int, optional, maximum number of iterations for the algorithm, default is 1000.\n",
    "    tol: float, optional, error tolerance, default is 1e-4.\n",
    "    \n",
    "    Returns:\n",
    "    beta: numpy array of shape (p,), vector of feature weights.\n",
    "    \"\"\"\n",
    "    n, p = X.shape\n",
    "    beta = np.zeros(p)  # Initialize beta to zero vector\n",
    "    for i in range(max_iter):\n",
    "        beta_old = np.copy(beta)  # Store the previous value of beta\n",
    "        for j in range(p):\n",
    "            X_j = X[:, j]  # Extract j-th column of X\n",
    "            X_not_j = np.delete(X, j, axis=1)  # Remove j-th column from X\n",
    "            beta_not_j = np.delete(beta, j)  # Remove j-th entry from beta\n",
    "            r = y - X_not_j.dot(beta_not_j)  # Compute residual\n",
    "            x_j = soft_threshold(X_j.dot(r), alpha) / (X_j ** 2).sum()  # Compute new coefficient\n",
    "            beta[j] = x_j  # Update j-th entry of beta\n",
    "        if np.linalg.norm(beta - beta_old) < tol:  # Check for convergence\n",
    "            break\n",
    "    return beta\n",
    "\n",
    "def soft_threshold(x, alpha):\n",
    "    \"\"\"\n",
    "    Soft-thresholding operator used in Lasso algorithm.\n",
    "    \n",
    "    Parameters:\n",
    "    x: float, input value.\n",
    "    alpha: float, threshold parameter.\n",
    "    \n",
    "    Returns:\n",
    "    float, soft-thresholded value.\n",
    "    \"\"\"\n",
    "    if x > alpha:\n",
    "        return x - alpha\n",
    "    elif x < -alpha:\n",
    "        return x + alpha\n",
    "    else:\n",
    "        return 0\n"
   ]
  },
  {
   "cell_type": "code",
   "execution_count": 3,
   "metadata": {},
   "outputs": [
    {
     "name": "stdout",
     "output_type": "stream",
     "text": [
      "[0.         0.         0.33253968]\n"
     ]
    }
   ],
   "source": [
    "X = np.array([[1, 2, 3], [4, 5, 6], [7, 8, 9]])\n",
    "y = np.array([1, 2, 3])\n",
    "alpha = 0.1\n",
    "\n",
    "beta = lasso_regression(X, y, alpha)\n",
    "print(beta)\n"
   ]
  },
  {
   "cell_type": "code",
   "execution_count": null,
   "metadata": {},
   "outputs": [],
   "source": []
  },
  {
   "cell_type": "code",
   "execution_count": null,
   "metadata": {},
   "outputs": [],
   "source": []
  },
  {
   "cell_type": "code",
   "execution_count": null,
   "metadata": {},
   "outputs": [],
   "source": []
  },
  {
   "cell_type": "code",
   "execution_count": null,
   "metadata": {},
   "outputs": [],
   "source": []
  },
  {
   "cell_type": "code",
   "execution_count": null,
   "metadata": {},
   "outputs": [],
   "source": []
  },
  {
   "cell_type": "code",
   "execution_count": null,
   "metadata": {},
   "outputs": [],
   "source": []
  }
 ],
 "metadata": {
  "kernelspec": {
   "display_name": "Python 3",
   "language": "python",
   "name": "python3"
  },
  "language_info": {
   "codemirror_mode": {
    "name": "ipython",
    "version": 3
   },
   "file_extension": ".py",
   "mimetype": "text/x-python",
   "name": "python",
   "nbconvert_exporter": "python",
   "pygments_lexer": "ipython3",
   "version": "3.10.8"
  },
  "orig_nbformat": 4
 },
 "nbformat": 4,
 "nbformat_minor": 2
}
